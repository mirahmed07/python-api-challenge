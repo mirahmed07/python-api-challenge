{
 "cells": [
  {
   "cell_type": "markdown",
   "metadata": {},
   "source": [
    "# WeatherPy\n",
    "----\n",
    "\n",
    "#### Note\n",
    "* Instructions have been included for each segment. You do not have to follow them exactly, but they are included to help you think through the steps."
   ]
  },
  {
   "cell_type": "code",
   "execution_count": 1,
   "metadata": {
    "scrolled": true
   },
   "outputs": [],
   "source": [
    "# Dependencies and Setup\n",
    "import matplotlib.pyplot as plt\n",
    "import pandas as pd\n",
    "import numpy as np\n",
    "import requests\n",
    "import time\n",
    "import json\n",
    "import scipy.stats as st\n",
    "from scipy.stats import linregress\n",
    "from pprint import pprint\n",
    "\n",
    "# Import weather API key from api_keys.py \n",
    "from config import weather_api_key\n",
    "\n",
    "# Incorporated citipy to determine city based on latitude and longitude\n",
    "from citipy import citipy\n",
    "\n",
    "# Output File (CSV)\n",
    "output_data_file = \"Output/cities.csv\"\n",
    "\n",
    "# Range of latitudes and longitudes\n",
    "lat_range = (-90, 90)\n",
    "lng_range = (-180, 180)"
   ]
  },
  {
   "cell_type": "markdown",
   "metadata": {},
   "source": [
    "## Generate Cities List"
   ]
  },
  {
   "cell_type": "code",
   "execution_count": 2,
   "metadata": {},
   "outputs": [
    {
     "data": {
      "text/plain": [
       "633"
      ]
     },
     "execution_count": 2,
     "metadata": {},
     "output_type": "execute_result"
    }
   ],
   "source": [
    "# List for holding lat_lngs and cities\n",
    "lat_lngs = []\n",
    "cities = []\n",
    "\n",
    "# Create a set of random lat and lng combinations\n",
    "lats = np.random.uniform(lat_range[0], lat_range[1], size=1500)\n",
    "lngs = np.random.uniform(lng_range[0], lng_range[1], size=1500)\n",
    "lat_lngs = zip(lats, lngs)\n",
    "\n",
    "# Identify nearest city for each lat, lng combination\n",
    "for lat_lng in lat_lngs:\n",
    "    city = citipy.nearest_city(lat_lng[0], lat_lng[1]).city_name\n",
    "    \n",
    "    # If the city is unique, then add it to a our cities list\n",
    "    if city not in cities:\n",
    "        cities.append(city)\n",
    "\n",
    "# Print the city count to confirm sufficient count\n",
    "len(cities)"
   ]
  },
  {
   "cell_type": "markdown",
   "metadata": {},
   "source": [
    "### Perform API Calls\n",
    "* Perform a weather check on each city using a series of successive API calls.\n",
    "* Include a print log of each city as it'sbeing processed (with the city number and city name).\n"
   ]
  },
  {
   "cell_type": "code",
   "execution_count": 3,
   "metadata": {
    "scrolled": true
   },
   "outputs": [
    {
     "name": "stdout",
     "output_type": "stream",
     "text": [
      "Beginning Data Retrieval \n",
      "-----------------------------\n",
      "Processing Record 1 of Set 1 : omboue\n",
      "Processing Record 2 of Set 1 : zacualpan\n",
      "Processing Record 3 of Set 1 : fortuna\n",
      "Processing Record 4 of Set 1 : norman wells\n",
      "Processing Record 5 of Set 1 : punta arenas\n",
      "Processing Record 6 of Set 1 : puerto ayora\n",
      "Processing Record 7 of Set 1 : mao\n",
      "City not found. Skipping...\n",
      "Processing Record 8 of Set 1 : inongo\n",
      "Processing Record 9 of Set 1 : rikitea\n",
      "Processing Record 10 of Set 1 : vicuna\n",
      "Processing Record 11 of Set 1 : khatanga\n",
      "Processing Record 12 of Set 1 : shelburne\n",
      "Processing Record 13 of Set 1 : springbok\n",
      "Processing Record 14 of Set 1 : coahuayana\n",
      "Processing Record 15 of Set 1 : kovur\n",
      "City not found. Skipping...\n",
      "Processing Record 16 of Set 1 : mataura\n",
      "Processing Record 17 of Set 1 : kruisfontein\n",
      "Processing Record 18 of Set 1 : tomatlan\n",
      "City not found. Skipping...\n",
      "City not found. Skipping...\n",
      "Processing Record 19 of Set 1 : cabo san lucas\n",
      "Processing Record 20 of Set 1 : ribeira grande\n",
      "Processing Record 21 of Set 1 : zhigansk\n",
      "Processing Record 22 of Set 1 : virginia beach\n",
      "Processing Record 23 of Set 1 : cidreira\n",
      "Processing Record 24 of Set 1 : busselton\n",
      "Processing Record 25 of Set 1 : hobart\n",
      "Processing Record 26 of Set 1 : bengkulu\n",
      "Processing Record 27 of Set 1 : tucupita\n",
      "City not found. Skipping...\n",
      "Processing Record 28 of Set 1 : marsh harbour\n",
      "Processing Record 29 of Set 1 : port elizabeth\n",
      "Processing Record 30 of Set 1 : port shepstone\n",
      "Processing Record 31 of Set 1 : iqaluit\n",
      "Processing Record 32 of Set 1 : souillac\n",
      "Processing Record 33 of Set 1 : miri\n",
      "Processing Record 34 of Set 1 : hasaki\n",
      "Processing Record 35 of Set 1 : saldanha\n",
      "Processing Record 36 of Set 1 : jamestown\n",
      "Processing Record 37 of Set 1 : muravlenko\n",
      "Processing Record 38 of Set 1 : yellowknife\n",
      "Processing Record 39 of Set 1 : kutum\n",
      "City not found. Skipping...\n",
      "Processing Record 40 of Set 1 : atuona\n",
      "Processing Record 41 of Set 1 : worthing\n",
      "Processing Record 42 of Set 1 : torbay\n",
      "Processing Record 43 of Set 1 : port alfred\n",
      "Processing Record 44 of Set 1 : burnie\n",
      "Processing Record 45 of Set 1 : rio grande\n",
      "Processing Record 46 of Set 1 : el pueblito\n",
      "Processing Record 47 of Set 1 : peniche\n",
      "Processing Record 48 of Set 1 : cape town\n",
      "Processing Record 49 of Set 1 : kapaa\n",
      "Processing Record 50 of Set 1 : bluff\n",
      "Processing Record 0 of Set 2 : ushuaia\n",
      "Processing Record 1 of Set 2 : qaanaaq\n",
      "Processing Record 2 of Set 2 : georgetown\n",
      "Processing Record 3 of Set 2 : hue\n",
      "Processing Record 4 of Set 2 : arlit\n",
      "Processing Record 5 of Set 2 : tairua\n",
      "Processing Record 6 of Set 2 : bethel\n",
      "Processing Record 7 of Set 2 : lorengau\n",
      "Processing Record 8 of Set 2 : tiksi\n",
      "Processing Record 9 of Set 2 : kailua\n",
      "Processing Record 10 of Set 2 : sao filipe\n",
      "Processing Record 11 of Set 2 : sisimiut\n",
      "City not found. Skipping...\n",
      "Processing Record 12 of Set 2 : kavaratti\n",
      "Processing Record 13 of Set 2 : nome\n",
      "Processing Record 14 of Set 2 : tuktoyaktuk\n",
      "Processing Record 15 of Set 2 : lismore\n",
      "Processing Record 16 of Set 2 : kaitangata\n",
      "Processing Record 17 of Set 2 : fonte boa\n",
      "City not found. Skipping...\n",
      "Processing Record 18 of Set 2 : okha\n",
      "Processing Record 19 of Set 2 : east london\n",
      "Processing Record 20 of Set 2 : barrow\n",
      "Processing Record 21 of Set 2 : bambous virieux\n",
      "Processing Record 22 of Set 2 : almaty\n",
      "Processing Record 23 of Set 2 : kaeo\n",
      "Processing Record 24 of Set 2 : silver city\n",
      "Processing Record 25 of Set 2 : pak phanang\n",
      "Processing Record 26 of Set 2 : preobrazheniye\n",
      "City not found. Skipping...\n",
      "City not found. Skipping...\n",
      "Processing Record 27 of Set 2 : chunoyar\n",
      "Processing Record 28 of Set 2 : new norfolk\n",
      "Processing Record 29 of Set 2 : bairiki\n",
      "Processing Record 30 of Set 2 : vaini\n",
      "Processing Record 31 of Set 2 : upernavik\n",
      "Processing Record 32 of Set 2 : hilo\n",
      "Processing Record 33 of Set 2 : bahia blanca\n",
      "Processing Record 34 of Set 2 : albany\n",
      "Processing Record 35 of Set 2 : tucuman\n",
      "Processing Record 36 of Set 2 : nantucket\n",
      "Processing Record 37 of Set 2 : nikolskoye\n",
      "Processing Record 38 of Set 2 : bennington\n",
      "Processing Record 39 of Set 2 : namibe\n",
      "City not found. Skipping...\n",
      "Processing Record 40 of Set 2 : provideniya\n",
      "Processing Record 41 of Set 2 : avarua\n",
      "City not found. Skipping...\n",
      "Processing Record 42 of Set 2 : longyearbyen\n",
      "Processing Record 43 of Set 2 : lata\n",
      "Processing Record 44 of Set 2 : ferrol\n",
      "Processing Record 45 of Set 2 : gayny\n",
      "Processing Record 46 of Set 2 : tonantins\n",
      "Processing Record 47 of Set 2 : bouar\n",
      "Processing Record 48 of Set 2 : broken hill\n",
      "Processing Record 49 of Set 2 : lompoc\n",
      "Processing Record 50 of Set 2 : ciudad bolivar\n",
      "Processing Record 0 of Set 3 : los llanos de aridane\n",
      "Processing Record 1 of Set 3 : buncrana\n",
      "Processing Record 2 of Set 3 : swift current\n",
      "City not found. Skipping...\n",
      "Processing Record 3 of Set 3 : smirnykh\n",
      "Processing Record 4 of Set 3 : tutoia\n",
      "Processing Record 5 of Set 3 : atar\n",
      "Processing Record 6 of Set 3 : sierra vista\n",
      "Processing Record 7 of Set 3 : hovd\n",
      "Processing Record 8 of Set 3 : castro\n",
      "Processing Record 9 of Set 3 : faanui\n",
      "Processing Record 10 of Set 3 : rizhao\n",
      "Processing Record 11 of Set 3 : robertsport\n",
      "Processing Record 12 of Set 3 : yining\n",
      "City not found. Skipping...\n",
      "Processing Record 13 of Set 3 : deputatskiy\n",
      "Processing Record 14 of Set 3 : constitucion\n",
      "City not found. Skipping...\n",
      "Processing Record 15 of Set 3 : nosy varika\n",
      "Processing Record 16 of Set 3 : kuusamo\n",
      "Processing Record 17 of Set 3 : bonthe\n",
      "Processing Record 18 of Set 3 : pervomayskiy\n",
      "Processing Record 19 of Set 3 : makakilo city\n",
      "Processing Record 20 of Set 3 : bermeo\n",
      "Processing Record 21 of Set 3 : san quintin\n",
      "Processing Record 22 of Set 3 : sitka\n",
      "Processing Record 23 of Set 3 : el bordo\n",
      "Processing Record 24 of Set 3 : grindavik\n",
      "Processing Record 25 of Set 3 : muroto\n",
      "City not found. Skipping...\n",
      "Processing Record 26 of Set 3 : shetpe\n",
      "Processing Record 27 of Set 3 : waitati\n",
      "Processing Record 28 of Set 3 : buchanan\n",
      "Processing Record 29 of Set 3 : dali\n",
      "Processing Record 30 of Set 3 : bathsheba\n",
      "Processing Record 31 of Set 3 : arkhara\n",
      "Processing Record 32 of Set 3 : avera\n",
      "Processing Record 33 of Set 3 : mar del plata\n",
      "Processing Record 34 of Set 3 : vila franca do campo\n",
      "Processing Record 35 of Set 3 : mumford\n",
      "Processing Record 36 of Set 3 : qiongshan\n",
      "Processing Record 37 of Set 3 : walvis bay\n",
      "Processing Record 38 of Set 3 : oranjemund\n",
      "Processing Record 39 of Set 3 : ancud\n",
      "Processing Record 40 of Set 3 : saskylakh\n",
      "Processing Record 41 of Set 3 : pasco\n",
      "Processing Record 42 of Set 3 : garowe\n",
      "Processing Record 43 of Set 3 : vestmannaeyjar\n",
      "Processing Record 44 of Set 3 : olafsvik\n",
      "Processing Record 45 of Set 3 : murree\n",
      "Processing Record 46 of Set 3 : camacupa\n",
      "Processing Record 47 of Set 3 : hakodate\n",
      "Processing Record 48 of Set 3 : husavik\n",
      "Processing Record 49 of Set 3 : nanortalik\n",
      "Processing Record 50 of Set 3 : surt\n",
      "Processing Record 0 of Set 4 : lebu\n",
      "Processing Record 1 of Set 4 : coos bay\n",
      "Processing Record 2 of Set 4 : saint george\n",
      "Processing Record 3 of Set 4 : porosozero\n",
      "Processing Record 4 of Set 4 : umm kaddadah\n",
      "Processing Record 5 of Set 4 : tigil\n",
      "Processing Record 6 of Set 4 : barcelos\n",
      "Processing Record 7 of Set 4 : akureyri\n",
      "Processing Record 8 of Set 4 : palmer\n",
      "Processing Record 9 of Set 4 : victoria\n",
      "Processing Record 10 of Set 4 : noumea\n",
      "Processing Record 11 of Set 4 : imbituba\n",
      "Processing Record 12 of Set 4 : maldonado\n",
      "Processing Record 13 of Set 4 : hermanus\n",
      "Processing Record 14 of Set 4 : hofn\n",
      "Processing Record 15 of Set 4 : nibong tebal\n",
      "Processing Record 16 of Set 4 : riyadh\n",
      "Processing Record 17 of Set 4 : lavrentiya\n",
      "Processing Record 18 of Set 4 : dunedin\n",
      "Processing Record 19 of Set 4 : vaitape\n",
      "Processing Record 20 of Set 4 : sibolga\n",
      "Processing Record 21 of Set 4 : tambopata\n",
      "Processing Record 22 of Set 4 : luba\n",
      "Processing Record 23 of Set 4 : egvekinot\n",
      "Processing Record 24 of Set 4 : chishtian mandi\n",
      "Processing Record 25 of Set 4 : polis\n",
      "City not found. Skipping...\n",
      "Processing Record 26 of Set 4 : merrill\n",
      "Processing Record 27 of Set 4 : codrington\n",
      "Processing Record 28 of Set 4 : ingleside\n",
      "Processing Record 29 of Set 4 : coquimbo\n",
      "Processing Record 30 of Set 4 : carsamba\n",
      "Processing Record 31 of Set 4 : pevek\n",
      "Processing Record 32 of Set 4 : zhuhai\n",
      "City not found. Skipping...\n",
      "Processing Record 33 of Set 4 : saint-philippe\n",
      "Processing Record 34 of Set 4 : guerrero negro\n"
     ]
    },
    {
     "name": "stdout",
     "output_type": "stream",
     "text": [
      "Processing Record 35 of Set 4 : taquara\n",
      "Processing Record 36 of Set 4 : yulara\n",
      "City not found. Skipping...\n",
      "Processing Record 37 of Set 4 : namikupa\n",
      "Processing Record 38 of Set 4 : cockburn town\n",
      "Processing Record 39 of Set 4 : san felipe\n",
      "Processing Record 40 of Set 4 : kautokeino\n",
      "Processing Record 41 of Set 4 : sinnamary\n",
      "Processing Record 42 of Set 4 : lethem\n",
      "Processing Record 43 of Set 4 : chingirlau\n",
      "Processing Record 44 of Set 4 : pozoblanco\n",
      "Processing Record 45 of Set 4 : urucara\n",
      "Processing Record 46 of Set 4 : saint-augustin\n",
      "Processing Record 47 of Set 4 : isangel\n",
      "Processing Record 48 of Set 4 : kjollefjord\n",
      "Processing Record 49 of Set 4 : agirish\n",
      "Processing Record 50 of Set 4 : harper\n",
      "Processing Record 0 of Set 5 : pitimbu\n",
      "Processing Record 1 of Set 5 : narsaq\n",
      "Processing Record 2 of Set 5 : chokurdakh\n",
      "Processing Record 3 of Set 5 : san nicolas guadalupe\n",
      "Processing Record 4 of Set 5 : oksovskiy\n",
      "City not found. Skipping...\n",
      "Processing Record 5 of Set 5 : sakakah\n",
      "Processing Record 6 of Set 5 : comodoro rivadavia\n",
      "Processing Record 7 of Set 5 : samut prakan\n",
      "Processing Record 8 of Set 5 : biltine\n",
      "Processing Record 9 of Set 5 : saurimo\n",
      "Processing Record 10 of Set 5 : shingu\n",
      "Processing Record 11 of Set 5 : nunoa\n",
      "Processing Record 12 of Set 5 : bontang\n",
      "Processing Record 13 of Set 5 : ostersund\n",
      "Processing Record 14 of Set 5 : katsuura\n",
      "Processing Record 15 of Set 5 : luderitz\n",
      "Processing Record 16 of Set 5 : ostrovnoy\n",
      "Processing Record 17 of Set 5 : bredasdorp\n",
      "City not found. Skipping...\n",
      "Processing Record 18 of Set 5 : iwaki\n",
      "Processing Record 19 of Set 5 : pundaguitan\n",
      "Processing Record 20 of Set 5 : butaritari\n",
      "Processing Record 21 of Set 5 : kolvereid\n",
      "Processing Record 22 of Set 5 : mahebourg\n",
      "Processing Record 23 of Set 5 : tasiilaq\n",
      "Processing Record 24 of Set 5 : naze\n",
      "Processing Record 25 of Set 5 : kodiak\n",
      "Processing Record 26 of Set 5 : suifenhe\n",
      "Processing Record 27 of Set 5 : wajima\n",
      "Processing Record 28 of Set 5 : aden\n",
      "Processing Record 29 of Set 5 : lillehammer\n",
      "Processing Record 30 of Set 5 : clyde river\n",
      "Processing Record 31 of Set 5 : hithadhoo\n",
      "Processing Record 32 of Set 5 : talaya\n",
      "Processing Record 33 of Set 5 : kenai\n",
      "Processing Record 34 of Set 5 : hirara\n",
      "Processing Record 35 of Set 5 : raudeberg\n",
      "Processing Record 36 of Set 5 : arraial do cabo\n",
      "Processing Record 37 of Set 5 : juneau\n",
      "Processing Record 38 of Set 5 : bulungu\n",
      "Processing Record 39 of Set 5 : kulhudhuffushi\n",
      "Processing Record 40 of Set 5 : north bend\n",
      "Processing Record 41 of Set 5 : szczytno\n",
      "Processing Record 42 of Set 5 : yenangyaung\n",
      "Processing Record 43 of Set 5 : rundu\n",
      "Processing Record 44 of Set 5 : mount isa\n",
      "Processing Record 45 of Set 5 : fairbanks\n",
      "Processing Record 46 of Set 5 : mackay\n",
      "Processing Record 47 of Set 5 : penzance\n",
      "Processing Record 48 of Set 5 : trairi\n",
      "Processing Record 49 of Set 5 : huarmey\n",
      "Processing Record 50 of Set 5 : musoma\n",
      "Processing Record 0 of Set 6 : tokonou\n",
      "Processing Record 1 of Set 6 : burns lake\n",
      "Processing Record 2 of Set 6 : te anau\n",
      "Processing Record 3 of Set 6 : portland\n",
      "Processing Record 4 of Set 6 : the pas\n",
      "Processing Record 5 of Set 6 : araouane\n",
      "Processing Record 6 of Set 6 : praya\n",
      "Processing Record 7 of Set 6 : corinto\n",
      "Processing Record 8 of Set 6 : ous\n",
      "Processing Record 9 of Set 6 : fort nelson\n",
      "Processing Record 10 of Set 6 : boa vista\n",
      "Processing Record 11 of Set 6 : kholtoson\n",
      "City not found. Skipping...\n",
      "Processing Record 12 of Set 6 : ravar\n",
      "Processing Record 13 of Set 6 : hambantota\n",
      "Processing Record 14 of Set 6 : tilichiki\n",
      "City not found. Skipping...\n",
      "Processing Record 15 of Set 6 : broome\n",
      "Processing Record 16 of Set 6 : leshukonskoye\n",
      "Processing Record 17 of Set 6 : balabac\n",
      "Processing Record 18 of Set 6 : mizan teferi\n",
      "Processing Record 19 of Set 6 : monrovia\n",
      "Processing Record 20 of Set 6 : gizo\n",
      "Processing Record 21 of Set 6 : tonk\n",
      "Processing Record 22 of Set 6 : sovetskaya\n",
      "Processing Record 23 of Set 6 : haines junction\n",
      "Processing Record 24 of Set 6 : port augusta\n",
      "Processing Record 25 of Set 6 : clemencia\n",
      "Processing Record 26 of Set 6 : carnarvon\n",
      "Processing Record 27 of Set 6 : tautira\n",
      "Processing Record 28 of Set 6 : ust-maya\n",
      "Processing Record 29 of Set 6 : placido de castro\n",
      "Processing Record 30 of Set 6 : yumen\n",
      "Processing Record 31 of Set 6 : consett\n",
      "City not found. Skipping...\n",
      "City not found. Skipping...\n",
      "Processing Record 32 of Set 6 : awbari\n",
      "Processing Record 33 of Set 6 : the valley\n",
      "Processing Record 34 of Set 6 : ponta do sol\n",
      "City not found. Skipping...\n",
      "Processing Record 35 of Set 6 : severo-kurilsk\n",
      "Processing Record 36 of Set 6 : praia\n",
      "Processing Record 37 of Set 6 : narimanov\n",
      "Processing Record 38 of Set 6 : cotonou\n",
      "Processing Record 39 of Set 6 : grinnell\n",
      "Processing Record 40 of Set 6 : nata\n",
      "Processing Record 41 of Set 6 : christchurch\n",
      "Processing Record 42 of Set 6 : kendrapara\n",
      "Processing Record 43 of Set 6 : peruibe\n",
      "Processing Record 44 of Set 6 : podor\n",
      "Processing Record 45 of Set 6 : yerbogachen\n",
      "Processing Record 46 of Set 6 : manaus\n",
      "Processing Record 47 of Set 6 : blagoyevo\n",
      "Processing Record 48 of Set 6 : lasa\n",
      "Processing Record 49 of Set 6 : laguna\n",
      "Processing Record 50 of Set 6 : airai\n",
      "City not found. Skipping...\n",
      "Processing Record 0 of Set 7 : chuy\n",
      "Processing Record 1 of Set 7 : port hardy\n",
      "City not found. Skipping...\n",
      "Processing Record 2 of Set 7 : kreminna\n",
      "Processing Record 3 of Set 7 : borogontsy\n",
      "Processing Record 4 of Set 7 : madang\n",
      "Processing Record 5 of Set 7 : tocache\n",
      "Processing Record 6 of Set 7 : lagoa\n",
      "Processing Record 7 of Set 7 : minab\n",
      "Processing Record 8 of Set 7 : homer\n",
      "City not found. Skipping...\n",
      "Processing Record 9 of Set 7 : ndele\n",
      "Processing Record 10 of Set 7 : inuvik\n",
      "City not found. Skipping...\n",
      "Processing Record 11 of Set 7 : talnakh\n",
      "Processing Record 12 of Set 7 : aykhal\n",
      "Processing Record 13 of Set 7 : harlingen\n",
      "Processing Record 14 of Set 7 : umba\n",
      "City not found. Skipping...\n",
      "Processing Record 15 of Set 7 : meulaboh\n",
      "Processing Record 16 of Set 7 : axim\n",
      "Processing Record 17 of Set 7 : puerto ayacucho\n",
      "Processing Record 18 of Set 7 : eskil\n",
      "Processing Record 19 of Set 7 : dingle\n",
      "Processing Record 20 of Set 7 : pimentel\n",
      "Processing Record 21 of Set 7 : dikson\n",
      "Processing Record 22 of Set 7 : touros\n",
      "Processing Record 23 of Set 7 : grand-lahou\n",
      "City not found. Skipping...\n",
      "Processing Record 24 of Set 7 : faya\n",
      "Processing Record 25 of Set 7 : kalmunai\n",
      "Processing Record 26 of Set 7 : hamilton\n",
      "Processing Record 27 of Set 7 : thinadhoo\n",
      "Processing Record 28 of Set 7 : tessalit\n",
      "Processing Record 29 of Set 7 : rawson\n",
      "Processing Record 30 of Set 7 : bilibino\n",
      "Processing Record 31 of Set 7 : roebourne\n",
      "Processing Record 32 of Set 7 : geraldton\n",
      "Processing Record 33 of Set 7 : margate\n",
      "Processing Record 34 of Set 7 : enid\n",
      "Processing Record 35 of Set 7 : kahului\n",
      "Processing Record 36 of Set 7 : rawlins\n",
      "Processing Record 37 of Set 7 : staryy nadym\n",
      "Processing Record 38 of Set 7 : kawalu\n",
      "City not found. Skipping...\n",
      "Processing Record 39 of Set 7 : nara\n",
      "Processing Record 40 of Set 7 : general pico\n",
      "Processing Record 41 of Set 7 : tres arroyos\n",
      "Processing Record 42 of Set 7 : andenes\n",
      "Processing Record 43 of Set 7 : genhe\n",
      "Processing Record 44 of Set 7 : florianopolis\n",
      "Processing Record 45 of Set 7 : zhanaozen\n",
      "Processing Record 46 of Set 7 : mount darwin\n",
      "Processing Record 47 of Set 7 : fengzhen\n",
      "City not found. Skipping...\n",
      "Processing Record 48 of Set 7 : ende\n",
      "Processing Record 49 of Set 7 : beringovskiy\n",
      "Processing Record 50 of Set 7 : vostok\n",
      "Processing Record 0 of Set 8 : bakau\n",
      "Processing Record 1 of Set 8 : batagay-alyta\n",
      "Processing Record 2 of Set 8 : panama city\n",
      "Processing Record 3 of Set 8 : pacifica\n",
      "Processing Record 4 of Set 8 : sydney mines\n",
      "Processing Record 5 of Set 8 : kozhva\n",
      "Processing Record 6 of Set 8 : mahibadhoo\n",
      "Processing Record 7 of Set 8 : raga\n",
      "Processing Record 8 of Set 8 : kavieng\n",
      "Processing Record 9 of Set 8 : puerto cabezas\n",
      "Processing Record 10 of Set 8 : saucillo\n",
      "Processing Record 11 of Set 8 : labuhan\n",
      "Processing Record 12 of Set 8 : srednekolymsk\n",
      "Processing Record 13 of Set 8 : ketchikan\n",
      "Processing Record 14 of Set 8 : serenje\n",
      "Processing Record 15 of Set 8 : adrar\n",
      "Processing Record 16 of Set 8 : san cristobal\n",
      "Processing Record 17 of Set 8 : nabire\n",
      "Processing Record 18 of Set 8 : loudi\n",
      "Processing Record 19 of Set 8 : kamaishi\n",
      "Processing Record 20 of Set 8 : antalaha\n",
      "Processing Record 21 of Set 8 : baruun-urt\n"
     ]
    },
    {
     "name": "stdout",
     "output_type": "stream",
     "text": [
      "Processing Record 22 of Set 8 : richards bay\n",
      "Processing Record 23 of Set 8 : akersberga\n",
      "Processing Record 24 of Set 8 : okhotsk\n",
      "Processing Record 25 of Set 8 : whitehorse\n",
      "Processing Record 26 of Set 8 : westport\n",
      "Processing Record 27 of Set 8 : tam ky\n",
      "Processing Record 28 of Set 8 : sijunjung\n",
      "Processing Record 29 of Set 8 : alice springs\n",
      "Processing Record 30 of Set 8 : angoche\n",
      "Processing Record 31 of Set 8 : hays\n",
      "Processing Record 32 of Set 8 : xining\n",
      "Processing Record 33 of Set 8 : parati\n",
      "Processing Record 34 of Set 8 : belaya gora\n",
      "Processing Record 35 of Set 8 : seymchan\n",
      "Processing Record 36 of Set 8 : oshogbo\n",
      "Processing Record 37 of Set 8 : esperance\n",
      "Processing Record 38 of Set 8 : nizhnyaya tavda\n",
      "Processing Record 39 of Set 8 : cherskiy\n",
      "Processing Record 40 of Set 8 : shache\n",
      "Processing Record 41 of Set 8 : macrohon\n",
      "Processing Record 42 of Set 8 : kiunga\n",
      "Processing Record 43 of Set 8 : iskateley\n",
      "Processing Record 44 of Set 8 : lima\n",
      "Processing Record 45 of Set 8 : buinsk\n",
      "Processing Record 46 of Set 8 : tuatapere\n",
      "Processing Record 47 of Set 8 : naryan-mar\n",
      "Processing Record 48 of Set 8 : porto novo\n",
      "Processing Record 49 of Set 8 : chapais\n",
      "Processing Record 50 of Set 8 : bandarbeyla\n",
      "City not found. Skipping...\n",
      "Processing Record 0 of Set 9 : aklavik\n",
      "Processing Record 1 of Set 9 : ondangwa\n",
      "City not found. Skipping...\n",
      "Processing Record 2 of Set 9 : thompson\n",
      "Processing Record 3 of Set 9 : asyut\n",
      "Processing Record 4 of Set 9 : taoudenni\n",
      "Processing Record 5 of Set 9 : skibotn\n",
      "Processing Record 6 of Set 9 : trincomalee\n",
      "Processing Record 7 of Set 9 : oskarshamn\n",
      "Processing Record 8 of Set 9 : college\n",
      "Processing Record 9 of Set 9 : santa vitoria do palmar\n",
      "Processing Record 10 of Set 9 : bako\n",
      "Processing Record 11 of Set 9 : san carlos\n",
      "Processing Record 12 of Set 9 : taixing\n",
      "Processing Record 13 of Set 9 : dole\n",
      "City not found. Skipping...\n",
      "Processing Record 14 of Set 9 : anadyr\n",
      "Processing Record 15 of Set 9 : celestun\n",
      "Processing Record 16 of Set 9 : krasnyy luch\n",
      "Processing Record 17 of Set 9 : alofi\n",
      "Processing Record 18 of Set 9 : igarka\n",
      "Processing Record 19 of Set 9 : toguchin\n",
      "City not found. Skipping...\n",
      "Processing Record 20 of Set 9 : butembo\n",
      "Processing Record 21 of Set 9 : maragogi\n",
      "Processing Record 22 of Set 9 : troitskoye\n",
      "Processing Record 23 of Set 9 : ahipara\n",
      "Processing Record 24 of Set 9 : almaznyy\n",
      "Processing Record 25 of Set 9 : havre\n",
      "Processing Record 26 of Set 9 : vilhena\n",
      "Processing Record 27 of Set 9 : alexandria\n",
      "Processing Record 28 of Set 9 : chunar\n",
      "Processing Record 29 of Set 9 : padang\n",
      "Processing Record 30 of Set 9 : ormara\n",
      "Processing Record 31 of Set 9 : cairns\n",
      "Processing Record 32 of Set 9 : tovuz\n",
      "Processing Record 33 of Set 9 : pakhtakoron\n",
      "Processing Record 34 of Set 9 : boat of garten\n",
      "Processing Record 35 of Set 9 : mozarlandia\n",
      "Processing Record 36 of Set 9 : yar-sale\n",
      "Processing Record 37 of Set 9 : newport\n",
      "Processing Record 38 of Set 9 : ilyich\n",
      "Processing Record 39 of Set 9 : mildura\n",
      "Processing Record 40 of Set 9 : sungaipenuh\n",
      "Processing Record 41 of Set 9 : nanakuli\n",
      "Processing Record 42 of Set 9 : bembereke\n",
      "Processing Record 43 of Set 9 : flin flon\n",
      "Processing Record 44 of Set 9 : acapulco\n",
      "Processing Record 45 of Set 9 : malazgirt\n",
      "Processing Record 46 of Set 9 : saint-georges\n",
      "Processing Record 47 of Set 9 : necochea\n",
      "Processing Record 48 of Set 9 : port blair\n",
      "Processing Record 49 of Set 9 : santiago del estero\n",
      "Processing Record 50 of Set 9 : dzheguta\n",
      "Processing Record 0 of Set 10 : pedro juan caballero\n",
      "Processing Record 1 of Set 10 : vao\n",
      "Processing Record 2 of Set 10 : jalingo\n",
      "Processing Record 3 of Set 10 : ruy barbosa\n",
      "Processing Record 4 of Set 10 : shimoda\n",
      "Processing Record 5 of Set 10 : huilong\n",
      "City not found. Skipping...\n",
      "Processing Record 6 of Set 10 : azovo\n",
      "Processing Record 7 of Set 10 : kurilsk\n",
      "Processing Record 8 of Set 10 : novo aripuana\n",
      "Processing Record 9 of Set 10 : matamoros\n",
      "Processing Record 10 of Set 10 : quatre cocos\n",
      "Processing Record 11 of Set 10 : kuryk\n",
      "Processing Record 12 of Set 10 : asau\n",
      "Processing Record 13 of Set 10 : luganville\n",
      "Processing Record 14 of Set 10 : loei\n",
      "Processing Record 15 of Set 10 : salalah\n",
      "Processing Record 16 of Set 10 : sola\n",
      "Processing Record 17 of Set 10 : washington\n",
      "Processing Record 18 of Set 10 : togur\n",
      "Processing Record 19 of Set 10 : northam\n",
      "Processing Record 20 of Set 10 : aginskoye\n",
      "Processing Record 21 of Set 10 : semey\n",
      "Processing Record 22 of Set 10 : male\n",
      "Processing Record 23 of Set 10 : taltal\n",
      "Processing Record 24 of Set 10 : soubre\n",
      "Processing Record 25 of Set 10 : nouadhibou\n",
      "Processing Record 26 of Set 10 : olinda\n",
      "Processing Record 27 of Set 10 : iquitos\n",
      "Processing Record 28 of Set 10 : kibre mengist\n",
      "Processing Record 29 of Set 10 : ola\n",
      "Processing Record 30 of Set 10 : huicungo\n",
      "Processing Record 31 of Set 10 : nioro\n",
      "Processing Record 32 of Set 10 : bitam\n",
      "Processing Record 33 of Set 10 : kungurtug\n",
      "City not found. Skipping...\n",
      "Processing Record 34 of Set 10 : puro\n",
      "Processing Record 35 of Set 10 : saint-pierre\n",
      "Processing Record 36 of Set 10 : nouakchott\n",
      "Processing Record 37 of Set 10 : thiers\n",
      "Processing Record 38 of Set 10 : upington\n",
      "Processing Record 39 of Set 10 : aloleng\n",
      "Processing Record 40 of Set 10 : urzhum\n",
      "Processing Record 41 of Set 10 : sur\n",
      "Processing Record 42 of Set 10 : ilulissat\n",
      "Processing Record 43 of Set 10 : syracuse\n",
      "Processing Record 44 of Set 10 : diffa\n",
      "Processing Record 45 of Set 10 : houma\n",
      "Processing Record 46 of Set 10 : boyolangu\n",
      "Processing Record 47 of Set 10 : chicama\n",
      "Processing Record 48 of Set 10 : ixtapa\n",
      "Processing Record 49 of Set 10 : taksimo\n",
      "Processing Record 50 of Set 10 : radcliff\n",
      "Processing Record 0 of Set 11 : mehamn\n",
      "Processing Record 1 of Set 11 : roald\n",
      "Processing Record 2 of Set 11 : yeniseysk\n",
      "Processing Record 3 of Set 11 : udachnyy\n",
      "Processing Record 4 of Set 11 : vinh\n",
      "City not found. Skipping...\n",
      "Processing Record 5 of Set 11 : lyaskelya\n",
      "Processing Record 6 of Set 11 : aswan\n",
      "Processing Record 7 of Set 11 : dolzhanskaya\n",
      "Processing Record 8 of Set 11 : daru\n",
      "Processing Record 9 of Set 11 : sogne\n",
      "Processing Record 10 of Set 11 : krasnoyarskiy\n",
      "Processing Record 11 of Set 11 : malakal\n",
      "Processing Record 12 of Set 11 : champerico\n",
      "Processing Record 13 of Set 11 : novobirilyussy\n",
      "Processing Record 14 of Set 11 : bonavista\n",
      "Processing Record 15 of Set 11 : show low\n",
      "Processing Record 16 of Set 11 : meadow lake\n",
      "Processing Record 17 of Set 11 : minggang\n",
      "City not found. Skipping...\n",
      "Processing Record 18 of Set 11 : derbent\n",
      "Processing Record 19 of Set 11 : nishihara\n",
      "Processing Record 20 of Set 11 : menomonie\n",
      "Processing Record 21 of Set 11 : stephenville\n",
      "Processing Record 22 of Set 11 : mitoc\n",
      "Processing Record 23 of Set 11 : aleksandrovsk-sakhalinskiy\n",
      "Processing Record 24 of Set 11 : el vigia\n",
      "Processing Record 25 of Set 11 : skelleftea\n",
      "Processing Record 26 of Set 11 : grand-bourg\n",
      "Processing Record 27 of Set 11 : sorland\n",
      "Processing Record 28 of Set 11 : palkonda\n",
      "Processing Record 29 of Set 11 : malartic\n",
      "Processing Record 30 of Set 11 : novouzensk\n",
      "Processing Record 31 of Set 11 : lermontovka\n",
      "Processing Record 32 of Set 11 : rafraf\n",
      "Processing Record 33 of Set 11 : leningradskiy\n",
      "Processing Record 34 of Set 11 : jacareacanga\n",
      "Processing Record 35 of Set 11 : mount gambier\n",
      "Processing Record 36 of Set 11 : tyukhtet\n",
      "Processing Record 37 of Set 11 : alcains\n",
      "Processing Record 38 of Set 11 : talavera de la reina\n",
      "Processing Record 39 of Set 11 : sioux lookout\n",
      "Processing Record 40 of Set 11 : san patricio\n",
      "Processing Record 41 of Set 11 : merauke\n",
      "Processing Record 42 of Set 11 : dolgoderevenskoye\n",
      "Processing Record 43 of Set 11 : cedar city\n",
      "Processing Record 44 of Set 11 : neuquen\n",
      "Processing Record 45 of Set 11 : ponta delgada\n",
      "Processing Record 46 of Set 11 : puerto varas\n",
      "Processing Record 47 of Set 11 : san jeronimo\n",
      "Processing Record 48 of Set 11 : pareora\n",
      "Processing Record 49 of Set 11 : saint-leu\n",
      "Processing Record 50 of Set 11 : sukumo\n",
      "Processing Record 0 of Set 12 : honiara\n",
      "City not found. Skipping...\n",
      "Processing Record 1 of Set 12 : gaogou\n",
      "City not found. Skipping...\n",
      "Processing Record 2 of Set 12 : mittagong\n",
      "Processing Record 3 of Set 12 : bitung\n",
      "City not found. Skipping...\n",
      "Processing Record 4 of Set 12 : gat\n",
      "Processing Record 5 of Set 12 : havelock\n",
      "Processing Record 6 of Set 12 : tiarei\n"
     ]
    },
    {
     "name": "stdout",
     "output_type": "stream",
     "text": [
      "Processing Record 7 of Set 12 : pisco\n",
      "Processing Record 8 of Set 12 : koprivnica\n",
      "Processing Record 9 of Set 12 : poum\n",
      "Processing Record 10 of Set 12 : gobabis\n",
      "Processing Record 11 of Set 12 : consuelo\n",
      "Processing Record 12 of Set 12 : mayumba\n",
      "City not found. Skipping...\n",
      "City not found. Skipping...\n",
      "Processing Record 13 of Set 12 : takhtamygda\n",
      "Processing Record 14 of Set 12 : gimli\n",
      "Processing Record 15 of Set 12 : norsup\n",
      "Processing Record 16 of Set 12 : porto velho\n",
      "Processing Record 17 of Set 12 : klaksvik\n",
      "Processing Record 18 of Set 12 : hay river\n",
      "Processing Record 19 of Set 12 : boddam\n",
      "Processing Record 20 of Set 12 : kalyazin\n",
      "City not found. Skipping...\n",
      "Processing Record 21 of Set 12 : shwebo\n",
      "Processing Record 22 of Set 12 : kloulklubed\n",
      "Processing Record 23 of Set 12 : nalut\n",
      "-----------------------------\n",
      "Data Retrieval Complete\n",
      "-----------------------------\n"
     ]
    }
   ],
   "source": [
    "# Creating empty lists which will later be used to create dataframe\n",
    "city_name = []\n",
    "cloudiness = []\n",
    "country = []\n",
    "date = []\n",
    "humidity = []\n",
    "lat = []\n",
    "lng = []\n",
    "max_temp = []\n",
    "wind_speed = []\n",
    "record_counter = 0\n",
    "set_counter = 1\n",
    "\n",
    "# Print log\n",
    "print(\"Beginning Data Retrieval \")\n",
    "print(\"-----------------------------\")\n",
    "\n",
    "url = \"http://api.openweathermap.org/data/2.5/weather?\"\n",
    "units = \"imperial\"\n",
    "search_url = f\"{url}appid={weather_api_key}&units={units}&q=\"\n",
    "\n",
    "\n",
    "# For each city name in cities list, do below things...\n",
    "for i in range(len(cities)):\n",
    "    try:\n",
    "        response = requests.get(search_url + cities[i]).json()\n",
    "        city_name.append(response[\"name\"])\n",
    "        cloudiness.append(response[\"clouds\"][\"all\"])\n",
    "        country.append(response[\"sys\"][\"country\"])\n",
    "        date.append(response[\"dt\"])\n",
    "        humidity.append(response[\"main\"][\"humidity\"])\n",
    "        lat.append(response[\"coord\"][\"lat\"])\n",
    "        lng.append(response[\"coord\"][\"lon\"])\n",
    "        max_temp.append(response['main']['temp_max'])\n",
    "        wind_speed.append(response[\"wind\"][\"speed\"])\n",
    "        if record_counter > 49:\n",
    "            record_counter = 0\n",
    "            set_counter = set_counter + 1\n",
    "    \n",
    "        else:\n",
    "            record_counter = record_counter + 1\n",
    "            \n",
    "        print(f\"Processing Record {record_counter} of Set {set_counter} : {cities[i]}\") \n",
    "  \n",
    "    except(KeyError, IndexError):\n",
    "        print(\"City not found. Skipping...\")\n",
    "        \n",
    "    # Wait 1 sec to make another api request to avoid limit error\n",
    "    time.sleep(1)\n",
    "print(\"-----------------------------\")\n",
    "print(\"Data Retrieval Complete\")\n",
    "print(\"-----------------------------\")"
   ]
  },
  {
   "cell_type": "markdown",
   "metadata": {},
   "source": [
    "### Convert Raw Data to DataFrame\n",
    "* Export the city data into a .csv.\n",
    "* Display the DataFrame"
   ]
  },
  {
   "cell_type": "code",
   "execution_count": 4,
   "metadata": {},
   "outputs": [
    {
     "data": {
      "text/html": [
       "<div>\n",
       "<style scoped>\n",
       "    .dataframe tbody tr th:only-of-type {\n",
       "        vertical-align: middle;\n",
       "    }\n",
       "\n",
       "    .dataframe tbody tr th {\n",
       "        vertical-align: top;\n",
       "    }\n",
       "\n",
       "    .dataframe thead th {\n",
       "        text-align: right;\n",
       "    }\n",
       "</style>\n",
       "<table border=\"1\" class=\"dataframe\">\n",
       "  <thead>\n",
       "    <tr style=\"text-align: right;\">\n",
       "      <th></th>\n",
       "      <th>City</th>\n",
       "      <th>Lat</th>\n",
       "      <th>Lng</th>\n",
       "      <th>Max Temp</th>\n",
       "      <th>Humidity</th>\n",
       "      <th>Cloudiness</th>\n",
       "      <th>Wind Speed</th>\n",
       "      <th>Country</th>\n",
       "      <th>Datetime</th>\n",
       "    </tr>\n",
       "  </thead>\n",
       "  <tbody>\n",
       "    <tr>\n",
       "      <th>0</th>\n",
       "      <td>Omboué</td>\n",
       "      <td>-1.57</td>\n",
       "      <td>9.26</td>\n",
       "      <td>76.35</td>\n",
       "      <td>91</td>\n",
       "      <td>88</td>\n",
       "      <td>5.70</td>\n",
       "      <td>GA</td>\n",
       "      <td>1607313768</td>\n",
       "    </tr>\n",
       "    <tr>\n",
       "      <th>1</th>\n",
       "      <td>Zacualpan</td>\n",
       "      <td>21.25</td>\n",
       "      <td>-105.17</td>\n",
       "      <td>72.00</td>\n",
       "      <td>88</td>\n",
       "      <td>90</td>\n",
       "      <td>3.83</td>\n",
       "      <td>MX</td>\n",
       "      <td>1607313768</td>\n",
       "    </tr>\n",
       "    <tr>\n",
       "      <th>2</th>\n",
       "      <td>Fortuna</td>\n",
       "      <td>40.60</td>\n",
       "      <td>-124.16</td>\n",
       "      <td>46.00</td>\n",
       "      <td>93</td>\n",
       "      <td>38</td>\n",
       "      <td>3.74</td>\n",
       "      <td>US</td>\n",
       "      <td>1607313769</td>\n",
       "    </tr>\n",
       "    <tr>\n",
       "      <th>3</th>\n",
       "      <td>Norman Wells</td>\n",
       "      <td>65.28</td>\n",
       "      <td>-126.83</td>\n",
       "      <td>1.40</td>\n",
       "      <td>91</td>\n",
       "      <td>75</td>\n",
       "      <td>2.24</td>\n",
       "      <td>CA</td>\n",
       "      <td>1607313543</td>\n",
       "    </tr>\n",
       "    <tr>\n",
       "      <th>4</th>\n",
       "      <td>Punta Arenas</td>\n",
       "      <td>-53.15</td>\n",
       "      <td>-70.92</td>\n",
       "      <td>59.00</td>\n",
       "      <td>67</td>\n",
       "      <td>100</td>\n",
       "      <td>17.22</td>\n",
       "      <td>CL</td>\n",
       "      <td>1607313433</td>\n",
       "    </tr>\n",
       "  </tbody>\n",
       "</table>\n",
       "</div>"
      ],
      "text/plain": [
       "           City    Lat     Lng  Max Temp  Humidity  Cloudiness  Wind Speed  \\\n",
       "0        Omboué  -1.57    9.26     76.35        91          88        5.70   \n",
       "1     Zacualpan  21.25 -105.17     72.00        88          90        3.83   \n",
       "2       Fortuna  40.60 -124.16     46.00        93          38        3.74   \n",
       "3  Norman Wells  65.28 -126.83      1.40        91          75        2.24   \n",
       "4  Punta Arenas -53.15  -70.92     59.00        67         100       17.22   \n",
       "\n",
       "  Country    Datetime  \n",
       "0      GA  1607313768  \n",
       "1      MX  1607313768  \n",
       "2      US  1607313769  \n",
       "3      CA  1607313543  \n",
       "4      CL  1607313433  "
      ]
     },
     "execution_count": 4,
     "metadata": {},
     "output_type": "execute_result"
    }
   ],
   "source": [
    "# Create dataframe using data retrieved from API requests\n",
    "curr_weather_df = pd.DataFrame({ \n",
    "                \"City\" : city_name,\n",
    "                \"Lat\" : lat,\n",
    "                \"Lng\" : lng,\n",
    "                \"Max Temp\" : max_temp,\n",
    "                \"Humidity\" : humidity,\n",
    "                \"Cloudiness\" : cloudiness,\n",
    "                \"Wind Speed\" : wind_speed,\n",
    "                \"Country\" : country,\n",
    "                \"Datetime\" : date               \n",
    "                })\n",
    "# export  data into a csv file\n",
    "curr_weather_df.to_csv(output_data_file, index = False)\n",
    "curr_weather_df.head()"
   ]
  },
  {
   "cell_type": "code",
   "execution_count": 5,
   "metadata": {
    "scrolled": true
   },
   "outputs": [
    {
     "data": {
      "text/html": [
       "<div>\n",
       "<style scoped>\n",
       "    .dataframe tbody tr th:only-of-type {\n",
       "        vertical-align: middle;\n",
       "    }\n",
       "\n",
       "    .dataframe tbody tr th {\n",
       "        vertical-align: top;\n",
       "    }\n",
       "\n",
       "    .dataframe thead th {\n",
       "        text-align: right;\n",
       "    }\n",
       "</style>\n",
       "<table border=\"1\" class=\"dataframe\">\n",
       "  <thead>\n",
       "    <tr style=\"text-align: right;\">\n",
       "      <th></th>\n",
       "      <th>Lat</th>\n",
       "      <th>Lng</th>\n",
       "      <th>Max Temp</th>\n",
       "      <th>Humidity</th>\n",
       "      <th>Cloudiness</th>\n",
       "      <th>Wind Speed</th>\n",
       "      <th>Datetime</th>\n",
       "    </tr>\n",
       "  </thead>\n",
       "  <tbody>\n",
       "    <tr>\n",
       "      <th>count</th>\n",
       "      <td>584.000000</td>\n",
       "      <td>584.000000</td>\n",
       "      <td>584.000000</td>\n",
       "      <td>584.000000</td>\n",
       "      <td>584.000000</td>\n",
       "      <td>584.000000</td>\n",
       "      <td>5.840000e+02</td>\n",
       "    </tr>\n",
       "    <tr>\n",
       "      <th>mean</th>\n",
       "      <td>21.148887</td>\n",
       "      <td>16.688545</td>\n",
       "      <td>51.799315</td>\n",
       "      <td>76.392123</td>\n",
       "      <td>54.734589</td>\n",
       "      <td>7.741318</td>\n",
       "      <td>1.607314e+09</td>\n",
       "    </tr>\n",
       "    <tr>\n",
       "      <th>std</th>\n",
       "      <td>33.364591</td>\n",
       "      <td>92.178485</td>\n",
       "      <td>27.413918</td>\n",
       "      <td>19.328842</td>\n",
       "      <td>39.513158</td>\n",
       "      <td>5.334002</td>\n",
       "      <td>7.907979e+01</td>\n",
       "    </tr>\n",
       "    <tr>\n",
       "      <th>min</th>\n",
       "      <td>-54.800000</td>\n",
       "      <td>-179.170000</td>\n",
       "      <td>-33.390000</td>\n",
       "      <td>3.000000</td>\n",
       "      <td>0.000000</td>\n",
       "      <td>0.220000</td>\n",
       "      <td>1.607313e+09</td>\n",
       "    </tr>\n",
       "    <tr>\n",
       "      <th>25%</th>\n",
       "      <td>-4.692500</td>\n",
       "      <td>-63.795000</td>\n",
       "      <td>31.982500</td>\n",
       "      <td>68.000000</td>\n",
       "      <td>8.000000</td>\n",
       "      <td>3.462500</td>\n",
       "      <td>1.607314e+09</td>\n",
       "    </tr>\n",
       "    <tr>\n",
       "      <th>50%</th>\n",
       "      <td>23.490000</td>\n",
       "      <td>18.360000</td>\n",
       "      <td>59.000000</td>\n",
       "      <td>82.000000</td>\n",
       "      <td>70.500000</td>\n",
       "      <td>6.675000</td>\n",
       "      <td>1.607314e+09</td>\n",
       "    </tr>\n",
       "    <tr>\n",
       "      <th>75%</th>\n",
       "      <td>50.105000</td>\n",
       "      <td>100.185000</td>\n",
       "      <td>74.535000</td>\n",
       "      <td>91.000000</td>\n",
       "      <td>91.250000</td>\n",
       "      <td>10.310000</td>\n",
       "      <td>1.607314e+09</td>\n",
       "    </tr>\n",
       "    <tr>\n",
       "      <th>max</th>\n",
       "      <td>78.220000</td>\n",
       "      <td>179.320000</td>\n",
       "      <td>100.400000</td>\n",
       "      <td>100.000000</td>\n",
       "      <td>100.000000</td>\n",
       "      <td>31.000000</td>\n",
       "      <td>1.607314e+09</td>\n",
       "    </tr>\n",
       "  </tbody>\n",
       "</table>\n",
       "</div>"
      ],
      "text/plain": [
       "              Lat         Lng    Max Temp    Humidity  Cloudiness  Wind Speed  \\\n",
       "count  584.000000  584.000000  584.000000  584.000000  584.000000  584.000000   \n",
       "mean    21.148887   16.688545   51.799315   76.392123   54.734589    7.741318   \n",
       "std     33.364591   92.178485   27.413918   19.328842   39.513158    5.334002   \n",
       "min    -54.800000 -179.170000  -33.390000    3.000000    0.000000    0.220000   \n",
       "25%     -4.692500  -63.795000   31.982500   68.000000    8.000000    3.462500   \n",
       "50%     23.490000   18.360000   59.000000   82.000000   70.500000    6.675000   \n",
       "75%     50.105000  100.185000   74.535000   91.000000   91.250000   10.310000   \n",
       "max     78.220000  179.320000  100.400000  100.000000  100.000000   31.000000   \n",
       "\n",
       "           Datetime  \n",
       "count  5.840000e+02  \n",
       "mean   1.607314e+09  \n",
       "std    7.907979e+01  \n",
       "min    1.607313e+09  \n",
       "25%    1.607314e+09  \n",
       "50%    1.607314e+09  \n",
       "75%    1.607314e+09  \n",
       "max    1.607314e+09  "
      ]
     },
     "execution_count": 5,
     "metadata": {},
     "output_type": "execute_result"
    }
   ],
   "source": [
    "# Describe the dataframe to find outliers\n",
    "curr_weather_df.describe()"
   ]
  },
  {
   "cell_type": "markdown",
   "metadata": {},
   "source": [
    "## Inspect the data and remove the cities where the humidity > 100%.\n",
    "----\n",
    "Skip this step if there are no cities that have humidity > 100%. "
   ]
  },
  {
   "cell_type": "code",
   "execution_count": 6,
   "metadata": {},
   "outputs": [],
   "source": [
    "# As there is no cities that have humidity > 100% I skipped this step.\n",
    "# Below code can be applied to filter out bad data in case it is needed.\n",
    "# curr_weather_df = curr_weather_df[curr_weather_df[\"Humidity\"] <= 100]"
   ]
  },
  {
   "cell_type": "code",
   "execution_count": 7,
   "metadata": {},
   "outputs": [
    {
     "data": {
      "text/plain": [
       "Int64Index([], dtype='int64')"
      ]
     },
     "execution_count": 7,
     "metadata": {},
     "output_type": "execute_result"
    }
   ],
   "source": [
    "#  Get the indices of cities that have humidity over 100%.\n",
    "curr_weather_df[curr_weather_df[\"Humidity\"] > 100].index"
   ]
  },
  {
   "cell_type": "code",
   "execution_count": 8,
   "metadata": {},
   "outputs": [
    {
     "data": {
      "text/html": [
       "<div>\n",
       "<style scoped>\n",
       "    .dataframe tbody tr th:only-of-type {\n",
       "        vertical-align: middle;\n",
       "    }\n",
       "\n",
       "    .dataframe tbody tr th {\n",
       "        vertical-align: top;\n",
       "    }\n",
       "\n",
       "    .dataframe thead th {\n",
       "        text-align: right;\n",
       "    }\n",
       "</style>\n",
       "<table border=\"1\" class=\"dataframe\">\n",
       "  <thead>\n",
       "    <tr style=\"text-align: right;\">\n",
       "      <th></th>\n",
       "      <th>City</th>\n",
       "      <th>Lat</th>\n",
       "      <th>Lng</th>\n",
       "      <th>Max Temp</th>\n",
       "      <th>Humidity</th>\n",
       "      <th>Cloudiness</th>\n",
       "      <th>Wind Speed</th>\n",
       "      <th>Country</th>\n",
       "      <th>Datetime</th>\n",
       "    </tr>\n",
       "  </thead>\n",
       "  <tbody>\n",
       "    <tr>\n",
       "      <th>0</th>\n",
       "      <td>Omboué</td>\n",
       "      <td>-1.57</td>\n",
       "      <td>9.26</td>\n",
       "      <td>76.35</td>\n",
       "      <td>91</td>\n",
       "      <td>88</td>\n",
       "      <td>5.70</td>\n",
       "      <td>GA</td>\n",
       "      <td>1607313768</td>\n",
       "    </tr>\n",
       "    <tr>\n",
       "      <th>1</th>\n",
       "      <td>Zacualpan</td>\n",
       "      <td>21.25</td>\n",
       "      <td>-105.17</td>\n",
       "      <td>72.00</td>\n",
       "      <td>88</td>\n",
       "      <td>90</td>\n",
       "      <td>3.83</td>\n",
       "      <td>MX</td>\n",
       "      <td>1607313768</td>\n",
       "    </tr>\n",
       "    <tr>\n",
       "      <th>2</th>\n",
       "      <td>Fortuna</td>\n",
       "      <td>40.60</td>\n",
       "      <td>-124.16</td>\n",
       "      <td>46.00</td>\n",
       "      <td>93</td>\n",
       "      <td>38</td>\n",
       "      <td>3.74</td>\n",
       "      <td>US</td>\n",
       "      <td>1607313769</td>\n",
       "    </tr>\n",
       "    <tr>\n",
       "      <th>3</th>\n",
       "      <td>Norman Wells</td>\n",
       "      <td>65.28</td>\n",
       "      <td>-126.83</td>\n",
       "      <td>1.40</td>\n",
       "      <td>91</td>\n",
       "      <td>75</td>\n",
       "      <td>2.24</td>\n",
       "      <td>CA</td>\n",
       "      <td>1607313543</td>\n",
       "    </tr>\n",
       "    <tr>\n",
       "      <th>4</th>\n",
       "      <td>Punta Arenas</td>\n",
       "      <td>-53.15</td>\n",
       "      <td>-70.92</td>\n",
       "      <td>59.00</td>\n",
       "      <td>67</td>\n",
       "      <td>100</td>\n",
       "      <td>17.22</td>\n",
       "      <td>CL</td>\n",
       "      <td>1607313433</td>\n",
       "    </tr>\n",
       "  </tbody>\n",
       "</table>\n",
       "</div>"
      ],
      "text/plain": [
       "           City    Lat     Lng  Max Temp  Humidity  Cloudiness  Wind Speed  \\\n",
       "0        Omboué  -1.57    9.26     76.35        91          88        5.70   \n",
       "1     Zacualpan  21.25 -105.17     72.00        88          90        3.83   \n",
       "2       Fortuna  40.60 -124.16     46.00        93          38        3.74   \n",
       "3  Norman Wells  65.28 -126.83      1.40        91          75        2.24   \n",
       "4  Punta Arenas -53.15  -70.92     59.00        67         100       17.22   \n",
       "\n",
       "  Country    Datetime  \n",
       "0      GA  1607313768  \n",
       "1      MX  1607313768  \n",
       "2      US  1607313769  \n",
       "3      CA  1607313543  \n",
       "4      CL  1607313433  "
      ]
     },
     "execution_count": 8,
     "metadata": {},
     "output_type": "execute_result"
    }
   ],
   "source": [
    "# Make a new DataFrame equal to the city data to drop all humidity outliers by index.\n",
    "# Passing \"inplace=False\" will make a copy of the city_data DataFrame, which we call \"clean_city_data\".\n",
    "clean_city_data = curr_weather_df.drop(axis = 0, index = curr_weather_df[curr_weather_df[\"Humidity\"] > 100].index,\n",
    "                                       inplace = False).reset_index(drop=True)\n",
    "clean_city_data.head()"
   ]
  },
  {
   "cell_type": "code",
   "execution_count": 9,
   "metadata": {
    "scrolled": true
   },
   "outputs": [
    {
     "data": {
      "text/html": [
       "<div>\n",
       "<style scoped>\n",
       "    .dataframe tbody tr th:only-of-type {\n",
       "        vertical-align: middle;\n",
       "    }\n",
       "\n",
       "    .dataframe tbody tr th {\n",
       "        vertical-align: top;\n",
       "    }\n",
       "\n",
       "    .dataframe thead th {\n",
       "        text-align: right;\n",
       "    }\n",
       "</style>\n",
       "<table border=\"1\" class=\"dataframe\">\n",
       "  <thead>\n",
       "    <tr style=\"text-align: right;\">\n",
       "      <th></th>\n",
       "      <th>Lat</th>\n",
       "      <th>Lng</th>\n",
       "      <th>Max Temp</th>\n",
       "      <th>Humidity</th>\n",
       "      <th>Cloudiness</th>\n",
       "      <th>Wind Speed</th>\n",
       "      <th>Datetime</th>\n",
       "    </tr>\n",
       "  </thead>\n",
       "  <tbody>\n",
       "    <tr>\n",
       "      <th>count</th>\n",
       "      <td>584.000000</td>\n",
       "      <td>584.000000</td>\n",
       "      <td>584.000000</td>\n",
       "      <td>584.000000</td>\n",
       "      <td>584.000000</td>\n",
       "      <td>584.000000</td>\n",
       "      <td>5.840000e+02</td>\n",
       "    </tr>\n",
       "    <tr>\n",
       "      <th>mean</th>\n",
       "      <td>21.148887</td>\n",
       "      <td>16.688545</td>\n",
       "      <td>51.799315</td>\n",
       "      <td>76.392123</td>\n",
       "      <td>54.734589</td>\n",
       "      <td>7.741318</td>\n",
       "      <td>1.607314e+09</td>\n",
       "    </tr>\n",
       "    <tr>\n",
       "      <th>std</th>\n",
       "      <td>33.364591</td>\n",
       "      <td>92.178485</td>\n",
       "      <td>27.413918</td>\n",
       "      <td>19.328842</td>\n",
       "      <td>39.513158</td>\n",
       "      <td>5.334002</td>\n",
       "      <td>7.907979e+01</td>\n",
       "    </tr>\n",
       "    <tr>\n",
       "      <th>min</th>\n",
       "      <td>-54.800000</td>\n",
       "      <td>-179.170000</td>\n",
       "      <td>-33.390000</td>\n",
       "      <td>3.000000</td>\n",
       "      <td>0.000000</td>\n",
       "      <td>0.220000</td>\n",
       "      <td>1.607313e+09</td>\n",
       "    </tr>\n",
       "    <tr>\n",
       "      <th>25%</th>\n",
       "      <td>-4.692500</td>\n",
       "      <td>-63.795000</td>\n",
       "      <td>31.982500</td>\n",
       "      <td>68.000000</td>\n",
       "      <td>8.000000</td>\n",
       "      <td>3.462500</td>\n",
       "      <td>1.607314e+09</td>\n",
       "    </tr>\n",
       "    <tr>\n",
       "      <th>50%</th>\n",
       "      <td>23.490000</td>\n",
       "      <td>18.360000</td>\n",
       "      <td>59.000000</td>\n",
       "      <td>82.000000</td>\n",
       "      <td>70.500000</td>\n",
       "      <td>6.675000</td>\n",
       "      <td>1.607314e+09</td>\n",
       "    </tr>\n",
       "    <tr>\n",
       "      <th>75%</th>\n",
       "      <td>50.105000</td>\n",
       "      <td>100.185000</td>\n",
       "      <td>74.535000</td>\n",
       "      <td>91.000000</td>\n",
       "      <td>91.250000</td>\n",
       "      <td>10.310000</td>\n",
       "      <td>1.607314e+09</td>\n",
       "    </tr>\n",
       "    <tr>\n",
       "      <th>max</th>\n",
       "      <td>78.220000</td>\n",
       "      <td>179.320000</td>\n",
       "      <td>100.400000</td>\n",
       "      <td>100.000000</td>\n",
       "      <td>100.000000</td>\n",
       "      <td>31.000000</td>\n",
       "      <td>1.607314e+09</td>\n",
       "    </tr>\n",
       "  </tbody>\n",
       "</table>\n",
       "</div>"
      ],
      "text/plain": [
       "              Lat         Lng    Max Temp    Humidity  Cloudiness  Wind Speed  \\\n",
       "count  584.000000  584.000000  584.000000  584.000000  584.000000  584.000000   \n",
       "mean    21.148887   16.688545   51.799315   76.392123   54.734589    7.741318   \n",
       "std     33.364591   92.178485   27.413918   19.328842   39.513158    5.334002   \n",
       "min    -54.800000 -179.170000  -33.390000    3.000000    0.000000    0.220000   \n",
       "25%     -4.692500  -63.795000   31.982500   68.000000    8.000000    3.462500   \n",
       "50%     23.490000   18.360000   59.000000   82.000000   70.500000    6.675000   \n",
       "75%     50.105000  100.185000   74.535000   91.000000   91.250000   10.310000   \n",
       "max     78.220000  179.320000  100.400000  100.000000  100.000000   31.000000   \n",
       "\n",
       "           Datetime  \n",
       "count  5.840000e+02  \n",
       "mean   1.607314e+09  \n",
       "std    7.907979e+01  \n",
       "min    1.607313e+09  \n",
       "25%    1.607314e+09  \n",
       "50%    1.607314e+09  \n",
       "75%    1.607314e+09  \n",
       "max    1.607314e+09  "
      ]
     },
     "execution_count": 9,
     "metadata": {},
     "output_type": "execute_result"
    }
   ],
   "source": [
    "# Describe the dataframe to find outliers\n",
    "clean_city_data.describe()"
   ]
  },
  {
   "cell_type": "code",
   "execution_count": 10,
   "metadata": {},
   "outputs": [
    {
     "data": {
      "text/html": [
       "<div>\n",
       "<style scoped>\n",
       "    .dataframe tbody tr th:only-of-type {\n",
       "        vertical-align: middle;\n",
       "    }\n",
       "\n",
       "    .dataframe tbody tr th {\n",
       "        vertical-align: top;\n",
       "    }\n",
       "\n",
       "    .dataframe thead th {\n",
       "        text-align: right;\n",
       "    }\n",
       "</style>\n",
       "<table border=\"1\" class=\"dataframe\">\n",
       "  <thead>\n",
       "    <tr style=\"text-align: right;\">\n",
       "      <th></th>\n",
       "      <th>City</th>\n",
       "      <th>Lat</th>\n",
       "      <th>Lng</th>\n",
       "      <th>Max Temp</th>\n",
       "      <th>Humidity</th>\n",
       "      <th>Cloudiness</th>\n",
       "      <th>Wind Speed</th>\n",
       "      <th>Country</th>\n",
       "      <th>Datetime</th>\n",
       "    </tr>\n",
       "  </thead>\n",
       "  <tbody>\n",
       "    <tr>\n",
       "      <th>0</th>\n",
       "      <td>Omboué</td>\n",
       "      <td>-1.57</td>\n",
       "      <td>9.26</td>\n",
       "      <td>76.35</td>\n",
       "      <td>91</td>\n",
       "      <td>88</td>\n",
       "      <td>5.70</td>\n",
       "      <td>GA</td>\n",
       "      <td>2020-12-07 04:02:48</td>\n",
       "    </tr>\n",
       "    <tr>\n",
       "      <th>1</th>\n",
       "      <td>Zacualpan</td>\n",
       "      <td>21.25</td>\n",
       "      <td>-105.17</td>\n",
       "      <td>72.00</td>\n",
       "      <td>88</td>\n",
       "      <td>90</td>\n",
       "      <td>3.83</td>\n",
       "      <td>MX</td>\n",
       "      <td>2020-12-07 04:02:48</td>\n",
       "    </tr>\n",
       "    <tr>\n",
       "      <th>2</th>\n",
       "      <td>Fortuna</td>\n",
       "      <td>40.60</td>\n",
       "      <td>-124.16</td>\n",
       "      <td>46.00</td>\n",
       "      <td>93</td>\n",
       "      <td>38</td>\n",
       "      <td>3.74</td>\n",
       "      <td>US</td>\n",
       "      <td>2020-12-07 04:02:49</td>\n",
       "    </tr>\n",
       "    <tr>\n",
       "      <th>3</th>\n",
       "      <td>Norman Wells</td>\n",
       "      <td>65.28</td>\n",
       "      <td>-126.83</td>\n",
       "      <td>1.40</td>\n",
       "      <td>91</td>\n",
       "      <td>75</td>\n",
       "      <td>2.24</td>\n",
       "      <td>CA</td>\n",
       "      <td>2020-12-07 03:59:03</td>\n",
       "    </tr>\n",
       "    <tr>\n",
       "      <th>4</th>\n",
       "      <td>Punta Arenas</td>\n",
       "      <td>-53.15</td>\n",
       "      <td>-70.92</td>\n",
       "      <td>59.00</td>\n",
       "      <td>67</td>\n",
       "      <td>100</td>\n",
       "      <td>17.22</td>\n",
       "      <td>CL</td>\n",
       "      <td>2020-12-07 03:57:13</td>\n",
       "    </tr>\n",
       "  </tbody>\n",
       "</table>\n",
       "</div>"
      ],
      "text/plain": [
       "           City    Lat     Lng  Max Temp  Humidity  Cloudiness  Wind Speed  \\\n",
       "0        Omboué  -1.57    9.26     76.35        91          88        5.70   \n",
       "1     Zacualpan  21.25 -105.17     72.00        88          90        3.83   \n",
       "2       Fortuna  40.60 -124.16     46.00        93          38        3.74   \n",
       "3  Norman Wells  65.28 -126.83      1.40        91          75        2.24   \n",
       "4  Punta Arenas -53.15  -70.92     59.00        67         100       17.22   \n",
       "\n",
       "  Country            Datetime  \n",
       "0      GA 2020-12-07 04:02:48  \n",
       "1      MX 2020-12-07 04:02:48  \n",
       "2      US 2020-12-07 04:02:49  \n",
       "3      CA 2020-12-07 03:59:03  \n",
       "4      CL 2020-12-07 03:57:13  "
      ]
     },
     "execution_count": 10,
     "metadata": {},
     "output_type": "execute_result"
    }
   ],
   "source": [
    "# Just to convert the unix datetime numbers to readable date format\n",
    "clean_city_data[\"Datetime\"]=pd.to_datetime(clean_city_data[\"Datetime\"],unit='s')\n",
    "clean_city_data.head()"
   ]
  },
  {
   "cell_type": "markdown",
   "metadata": {},
   "source": [
    "## Plotting the Data\n",
    "* Use proper labeling of the plots using plot titles (including date of analysis) and axes labels.\n",
    "* Save the plotted figures as .pngs."
   ]
  },
  {
   "cell_type": "markdown",
   "metadata": {},
   "source": [
    "## Latitude vs. Temperature Plot"
   ]
  },
  {
   "cell_type": "code",
   "execution_count": 11,
   "metadata": {
    "scrolled": true
   },
   "outputs": [
    {
     "data": {
      "image/png": "[encoded data removed]",
      "text/plain": [
       "<Figure size 432x288 with 1 Axes>"
      ]
     },
     "metadata": {
      "needs_background": "light"
     },
     "output_type": "display_data"
    }
   ],
   "source": [
    "# Create Latitude vs. Temperature Plot scatter plot\n",
    "plt.scatter(curr_weather_df[\"Lat\"], curr_weather_df[\"Max Temp\"], c = \"lightblue\", edgecolor = \"black\")\n",
    "\n",
    "# Set title\n",
    "plt.title(\"Temperature (F) vs. Latitude\")\n",
    "\n",
    "# Set x axis label\n",
    "plt.xlabel(\"Laitude\")\n",
    "\n",
    "# Set y axis label\n",
    "plt.ylabel(\"Max Temperature (F)\")\n",
    "\n",
    "# Set grid line\n",
    "plt.grid(linestyle='-', linewidth=1, alpha = 0.5)\n",
    "\n",
    "# Save the plotted figure as .pngs\n",
    "plt.savefig(\"Images/Temperature (F) vs. Latitude.png\")"
   ]
  },
  {
   "cell_type": "markdown",
   "metadata": {},
   "source": [
    "## Latitude vs. Humidity Plot"
   ]
  },
  {
   "cell_type": "code",
   "execution_count": 12,
   "metadata": {},
   "outputs": [
    {
     "data": {
      "image/png": "[encoded data removed]",
      "text/plain": [
       "<Figure size 432x288 with 1 Axes>"
      ]
     },
     "metadata": {
      "needs_background": "light"
     },
     "output_type": "display_data"
    }
   ],
   "source": [
    "# Create Latitude vs. Humidity Plot scatter plot\n",
    "plt.scatter(curr_weather_df[\"Lat\"], curr_weather_df[\"Humidity\"], c = \"teal\", edgecolor = \"black\")\n",
    "\n",
    "# Set title\n",
    "plt.title(\"Humidity (%) vs. Latitude\")\n",
    "\n",
    "# Set x axis label\n",
    "plt.xlabel(\"Laitude\")\n",
    "\n",
    "# Set y axis label\n",
    "plt.ylabel(\"Humidity (%)\")\n",
    "\n",
    "# Set grid line\n",
    "plt.grid(linestyle='-', linewidth=1, alpha = 0.5)\n",
    "\n",
    "# Save the plotted figure as .pngs\n",
    "plt.savefig(\"Images/Humidity (%) vs. Latitude.png\")"
   ]
  },
  {
   "cell_type": "markdown",
   "metadata": {},
   "source": [
    "## Latitude vs. Cloudiness Plot"
   ]
  },
  {
   "cell_type": "code",
   "execution_count": 13,
   "metadata": {},
   "outputs": [
    {
     "data": {
      "image/png": "[encoded data removed]",
      "text/plain": [
       "<Figure size 432x288 with 1 Axes>"
      ]
     },
     "metadata": {
      "needs_background": "light"
     },
     "output_type": "display_data"
    }
   ],
   "source": [
    "# Create Latitude vs. Cloudiness Plot scatter plot\n",
    "plt.scatter(curr_weather_df[\"Lat\"], curr_weather_df[\"Cloudiness\"], c = \"darkgray\", edgecolor = \"black\")\n",
    "\n",
    "# Set title\n",
    "plt.title(\"Cloudiness (%) vs. Latitude\")\n",
    "\n",
    "# Set x axis label\n",
    "plt.xlabel(\"Laitude\")\n",
    "\n",
    "# Set y axis label\n",
    "plt.ylabel(\"Cloudiness (%)\")\n",
    "\n",
    "# Set grid line\n",
    "plt.grid(linestyle='-', linewidth=1, alpha = 0.5)\n",
    "\n",
    "# Save the plotted figure as .pngs\n",
    "plt.savefig(\"Images/Cloudiness (%) vs. Latitude.png\")"
   ]
  },
  {
   "cell_type": "markdown",
   "metadata": {},
   "source": [
    "## Latitude vs. Wind Speed Plot"
   ]
  },
  {
   "cell_type": "code",
   "execution_count": 14,
   "metadata": {},
   "outputs": [
    {
     "data": {
      "image/png": "[encoded data removed]",
      "text/plain": [
       "<Figure size 432x288 with 1 Axes>"
      ]
     },
     "metadata": {
      "needs_background": "light"
     },
     "output_type": "display_data"
    }
   ],
   "source": [
    "# Create Latitude vs. Wind Speed scatter plot\n",
    "plt.scatter(curr_weather_df[\"Lat\"], curr_weather_df[\"Wind Speed\"], c = \"pink\", edgecolor = \"black\")\n",
    "\n",
    "# Set title\n",
    "plt.title(\"Wind Speed (mph) vs. Latitude\")\n",
    "\n",
    "# Set x axis label\n",
    "plt.xlabel(\"Laitude\")\n",
    "\n",
    "# Set y axis label\n",
    "plt.ylabel(\"Wind Speed (mph)\")\n",
    "\n",
    "# Set grid line\n",
    "plt.grid(linestyle='-', linewidth=1, alpha = 0.5)\n",
    "\n",
    "# Save the plotted figure as .pngs\n",
    "plt.savefig(\"Images/Wind Speed (mph) vs. Latitude.png\")"
   ]
  },
  {
   "cell_type": "markdown",
   "metadata": {},
   "source": [
    "## Linear Regression"
   ]
  },
  {
   "cell_type": "code",
   "execution_count": 15,
   "metadata": {},
   "outputs": [],
   "source": [
    "# Create Northern and Southern Hemisphere DataFrames\n",
    "nrth_hs_df = curr_weather_df.loc[curr_weather_df[\"Lat\"] >= 0]\n",
    "sth_hs_df = curr_weather_df.loc[curr_weather_df[\"Lat\"] < 0]"
   ]
  },
  {
   "cell_type": "code",
   "execution_count": 16,
   "metadata": {},
   "outputs": [],
   "source": [
    "# Define function for calculating linear regression and scatter plot with linear regression plot\n",
    "def linear_regression(x,y):\n",
    "    print(f\"The r-squared is : {round(st.pearsonr(x, y)[0],2)}\")\n",
    "    (slope, intercept, rvalue, pvalue, stderr) = linregress(x, y)\n",
    "    regress_values = x * slope + intercept\n",
    "    line_eq = \"y = \" + str(round(slope,2)) + \"x + \" + str(round(intercept,2))\n",
    "    plt.scatter(x, y, c = \"lightblue\", edgecolor = \"black\")\n",
    "    plt.plot(x,regress_values,\"r-\")\n",
    "    return line_eq\n",
    "\n",
    "# Define a fuction for annotating\n",
    "def plot_annotate(line_eq, a, b):\n",
    "    plt.annotate(line_eq,(a,b),fontsize=15,color=\"red\")"
   ]
  },
  {
   "cell_type": "markdown",
   "metadata": {},
   "source": [
    "####  Northern Hemisphere - Max Temp vs. Latitude Linear Regression"
   ]
  },
  {
   "cell_type": "code",
   "execution_count": 17,
   "metadata": {
    "scrolled": true
   },
   "outputs": [
    {
     "name": "stdout",
     "output_type": "stream",
     "text": [
      "The r-squared is : -0.87\n"
     ]
    },
    {
     "data": {
      "image/png": "[encoded data removed]",
      "text/plain": [
       "<Figure size 432x288 with 1 Axes>"
      ]
     },
     "metadata": {
      "needs_background": "light"
     },
     "output_type": "display_data"
    }
   ],
   "source": [
    "# Call function linear_regression\n",
    "equation1 = linear_regression(nrth_hs_df[\"Lat\"], nrth_hs_df[\"Max Temp\"])\n",
    "\n",
    "# Call function plot_annotate\n",
    "plot_annotate(equation1, 0, 0)\n",
    "\n",
    "# Set a title\n",
    "plt.title(\"Northern Hemisphere - Temperature (F) vs. Latitude\")\n",
    "\n",
    "# Set xlabel\n",
    "plt.xlabel(\"Latitude\")\n",
    "\n",
    "# Set ylabel\n",
    "plt.ylabel(\"Max Temp (F)\")\n",
    "\n",
    "# Set grid line\n",
    "plt.grid(linestyle='-', linewidth=1, alpha = 0.5)\n",
    "\n",
    "# Save the figure\n",
    "plt.savefig(\"Images/Northern Hemisphere - Temperature (F) vs. Latitude.png\")"
   ]
  },
  {
   "cell_type": "markdown",
   "metadata": {},
   "source": [
    "Strong negative correaltion beacuse of winter season"
   ]
  },
  {
   "cell_type": "markdown",
   "metadata": {},
   "source": [
    "####  Southern Hemisphere - Max Temp vs. Latitude Linear Regression"
   ]
  },
  {
   "cell_type": "code",
   "execution_count": 18,
   "metadata": {
    "scrolled": true
   },
   "outputs": [
    {
     "name": "stdout",
     "output_type": "stream",
     "text": [
      "The r-squared is : 0.47\n"
     ]
    },
    {
     "data": {
      "image/png": "[encoded data removed]",
      "text/plain": [
       "<Figure size 432x288 with 1 Axes>"
      ]
     },
     "metadata": {
      "needs_background": "light"
     },
     "output_type": "display_data"
    }
   ],
   "source": [
    "# Call function linear_regression\n",
    "equation2 = linear_regression(sth_hs_df[\"Lat\"],sth_hs_df[\"Max Temp\"])\n",
    "\n",
    "# Call function plot_annotate\n",
    "plot_annotate(equation2, -30, 52)\n",
    "\n",
    "# Set a title\n",
    "plt.title(\"Southern Hemisphere - Temperature (F) vs. Latitude\")\n",
    "\n",
    "# Set xlabel\n",
    "plt.xlabel(\"Latitude\")\n",
    "\n",
    "# Set ylabel\n",
    "plt.ylabel(\"Max Temp (F)\")\n",
    "\n",
    "# Set grid line\n",
    "plt.grid(linestyle='-', linewidth=1, alpha = 0.5)\n",
    "\n",
    "# Save the figure\n",
    "plt.savefig(\"Images/Southern Hemisphere - Temperature (F) vs. Latitude.png\")"
   ]
  },
  {
   "cell_type": "markdown",
   "metadata": {},
   "source": [
    "Moderate positive correlation beacuse of summer season"
   ]
  },
  {
   "cell_type": "markdown",
   "metadata": {},
   "source": [
    "####  Northern Hemisphere - Humidity (%) vs. Latitude Linear Regression"
   ]
  },
  {
   "cell_type": "code",
   "execution_count": 19,
   "metadata": {
    "scrolled": true
   },
   "outputs": [
    {
     "name": "stdout",
     "output_type": "stream",
     "text": [
      "The r-squared is : 0.33\n"
     ]
    },
    {
     "data": {
      "image/png": "[encoded data removed]",
      "text/plain": [
       "<Figure size 432x288 with 1 Axes>"
      ]
     },
     "metadata": {
      "needs_background": "light"
     },
     "output_type": "display_data"
    }
   ],
   "source": [
    "# Call function linear_regression\n",
    "equation3 = linear_regression(nrth_hs_df[\"Lat\"],nrth_hs_df[\"Humidity\"])\n",
    "\n",
    "# Call function plot_annotate\n",
    "plot_annotate(equation3, 40, 22)\n",
    "\n",
    "# Set a title\n",
    "plt.title(\"Northern Hemisphere - Humidity (%) vs. Latitude\")\n",
    "\n",
    "# Set xlabel\n",
    "plt.xlabel(\"Latitude\")\n",
    "\n",
    "# Set ylabel\n",
    "plt.ylabel(\"Humidity (%)\")\n",
    "\n",
    "# Set grid line\n",
    "plt.grid(linestyle='-', linewidth=1, alpha = 0.5)\n",
    "\n",
    "# Save the figure\n",
    "plt.savefig(\"Images/Northern Hemisphere - Humidity (%) vs. Latitude.png\")"
   ]
  },
  {
   "cell_type": "markdown",
   "metadata": {},
   "source": [
    "Weak positive correlation"
   ]
  },
  {
   "cell_type": "markdown",
   "metadata": {},
   "source": [
    "####  Southern Hemisphere - Humidity (%) vs. Latitude Linear Regression"
   ]
  },
  {
   "cell_type": "code",
   "execution_count": 20,
   "metadata": {},
   "outputs": [
    {
     "name": "stdout",
     "output_type": "stream",
     "text": [
      "The r-squared is : 0.33\n"
     ]
    },
    {
     "data": {
      "image/png": "[encoded data removed]",
      "text/plain": [
       "<Figure size 432x288 with 1 Axes>"
      ]
     },
     "metadata": {
      "needs_background": "light"
     },
     "output_type": "display_data"
    }
   ],
   "source": [
    "# Call function linear_regression\n",
    "equation4 = linear_regression(sth_hs_df[\"Lat\"], sth_hs_df[\"Humidity\"])\n",
    "\n",
    "# Call function plot_annotate\n",
    "plot_annotate(equation4, -30, 30)\n",
    "\n",
    "# Set title\n",
    "plt.title(\"Southern Hemisphere - Humidity (%) vs. Latitude\")\n",
    "\n",
    "# Set xlabel\n",
    "plt.xlabel(\"Latitude\")\n",
    "\n",
    "# Set ylabel\n",
    "plt.ylabel(\"Humidity (%)\")\n",
    "\n",
    "# Set grid line\n",
    "plt.grid(linestyle='-', linewidth=1, alpha = 0.5)\n",
    "\n",
    "# Save the figure\n",
    "plt.savefig(\"Images/Southern Hemisphere - Humidity (%) vs. Latitude.png\")"
   ]
  },
  {
   "cell_type": "markdown",
   "metadata": {},
   "source": [
    "Weak positive correlation"
   ]
  },
  {
   "cell_type": "markdown",
   "metadata": {},
   "source": [
    "####  Northern Hemisphere - Cloudiness (%) vs. Latitude Linear Regression"
   ]
  },
  {
   "cell_type": "code",
   "execution_count": 21,
   "metadata": {
    "scrolled": true
   },
   "outputs": [
    {
     "name": "stdout",
     "output_type": "stream",
     "text": [
      "The r-squared is : 0.28\n"
     ]
    },
    {
     "data": {
      "image/png": "[encoded data removed]",
      "text/plain": [
       "<Figure size 432x288 with 1 Axes>"
      ]
     },
     "metadata": {
      "needs_background": "light"
     },
     "output_type": "display_data"
    }
   ],
   "source": [
    "# Call function linear_regression\n",
    "equation5 = linear_regression(nrth_hs_df[\"Lat\"], nrth_hs_df[\"Cloudiness\"])\n",
    "\n",
    "# Call function plot_annotate\n",
    "plot_annotate(equation5, 45, 42)\n",
    "\n",
    "# Set title\n",
    "plt.title(\"Northern Hemisphere - Cloudiness (%) vs. Latitude\")\n",
    "\n",
    "# Set xlabel\n",
    "plt.xlabel(\"Latitude\")\n",
    "\n",
    "# Set ylabel\n",
    "plt.ylabel(\"Cloudiness (%)\")\n",
    "\n",
    "# Set grid line\n",
    "plt.grid(linestyle='-', linewidth=1, alpha = 0.5)\n",
    "\n",
    "# Save the figure\n",
    "plt.savefig(\"Images/Northern Hemisphere - Cloudiness (%) vs. Latitude.png\")"
   ]
  },
  {
   "cell_type": "markdown",
   "metadata": {},
   "source": [
    "Weak positive correlation"
   ]
  },
  {
   "cell_type": "markdown",
   "metadata": {},
   "source": [
    "####  Southern Hemisphere - Cloudiness (%) vs. Latitude Linear Regression"
   ]
  },
  {
   "cell_type": "code",
   "execution_count": 22,
   "metadata": {
    "scrolled": true
   },
   "outputs": [
    {
     "name": "stdout",
     "output_type": "stream",
     "text": [
      "The r-squared is : 0.21\n"
     ]
    },
    {
     "data": {
      "image/png": "[encoded data removed]",
      "text/plain": [
       "<Figure size 432x288 with 1 Axes>"
      ]
     },
     "metadata": {
      "needs_background": "light"
     },
     "output_type": "display_data"
    }
   ],
   "source": [
    "# Call function linear_regression\n",
    "equation6 = linear_regression(sth_hs_df[\"Lat\"], sth_hs_df[\"Cloudiness\"])\n",
    "\n",
    "# Call function plot_annotate\n",
    "plot_annotate(equation6, -55, 60)\n",
    "\n",
    "# Set title\n",
    "plt.title(\"Southern Hemisphere - Cloudiness (%) vs. Latitude\")\n",
    "\n",
    "# Set xlabel\n",
    "plt.xlabel(\"Latitude\")\n",
    "\n",
    "# Set ylabel\n",
    "plt.ylabel(\"Cloudiness (%)\")\n",
    "\n",
    "# Set grid line\n",
    "plt.grid(linestyle='-', linewidth=1, alpha = 0.5)\n",
    "\n",
    "# Save the figure\n",
    "plt.savefig(\"Images/Southern Hemisphere - Cloudiness (%) vs. Latitude.png\")"
   ]
  },
  {
   "cell_type": "markdown",
   "metadata": {},
   "source": [
    "Weak positive correlation"
   ]
  },
  {
   "cell_type": "markdown",
   "metadata": {},
   "source": [
    "####  Northern Hemisphere - Wind Speed (mph) vs. Latitude Linear Regression"
   ]
  },
  {
   "cell_type": "code",
   "execution_count": 23,
   "metadata": {
    "scrolled": true
   },
   "outputs": [
    {
     "name": "stdout",
     "output_type": "stream",
     "text": [
      "The r-squared is : 0.18\n"
     ]
    },
    {
     "data": {
      "image/png": "[encoded data removed]",
      "text/plain": [
       "<Figure size 432x288 with 1 Axes>"
      ]
     },
     "metadata": {
      "needs_background": "light"
     },
     "output_type": "display_data"
    }
   ],
   "source": [
    "# Call function linear_regression\n",
    "equation5 = linear_regression(nrth_hs_df[\"Lat\"], nrth_hs_df[\"Wind Speed\"])\n",
    "\n",
    "# Call function plot_annotate\n",
    "plot_annotate(equation5, 0, 20)\n",
    "\n",
    "# Set title\n",
    "plt.title(\"Northern Hemisphere - Wind Speed (mph) vs. Latitude\")\n",
    "\n",
    "# Set xlabel\n",
    "plt.xlabel(\"Latitude\")\n",
    "\n",
    "# Set ylabel\n",
    "plt.ylabel(\"Wind Speed (mph)\")\n",
    "\n",
    "# Set grid line\n",
    "plt.grid(linestyle='-', linewidth=1, alpha = 0.5)\n",
    "\n",
    "# Save the figure\n",
    "plt.savefig(\"Images/Northern Hemisphere - Wind Speed (mph) vs. Latitude.png\")"
   ]
  },
  {
   "cell_type": "markdown",
   "metadata": {},
   "source": [
    "Very weak positive correlation"
   ]
  },
  {
   "cell_type": "markdown",
   "metadata": {},
   "source": [
    "####  Southern Hemisphere - Wind Speed (mph) vs. Latitude Linear Regression"
   ]
  },
  {
   "cell_type": "code",
   "execution_count": 24,
   "metadata": {
    "scrolled": true
   },
   "outputs": [
    {
     "name": "stdout",
     "output_type": "stream",
     "text": [
      "The r-squared is : -0.45\n"
     ]
    },
    {
     "data": {
      "image/png": "[encoded data removed]",
      "text/plain": [
       "<Figure size 432x288 with 1 Axes>"
      ]
     },
     "metadata": {
      "needs_background": "light"
     },
     "output_type": "display_data"
    }
   ],
   "source": [
    "# Call function linear_regression\n",
    "equation5 = linear_regression(sth_hs_df[\"Lat\"], sth_hs_df[\"Wind Speed\"])\n",
    "\n",
    "# Call function plot_annotate\n",
    "plot_annotate(equation5, -30, 25)\n",
    "\n",
    "# Set title\n",
    "plt.title(\"Southern Hemisphere - Wind Speed (mph) vs. Latitude\")\n",
    "\n",
    "# Set xlabel\n",
    "plt.xlabel(\"Latitude\")\n",
    "\n",
    "# Set ylabel\n",
    "plt.ylabel(\"Wind Speed (mph)\")\n",
    "\n",
    "# Set grid line\n",
    "plt.grid(linestyle='-', linewidth=1, alpha = 0.5)\n",
    "\n",
    "# Save the figure\n",
    "plt.savefig(\"Images/Southern Hemisphere - Wind Speed (mph) vs. Latitude.png\")"
   ]
  },
  {
   "cell_type": "raw",
   "metadata": {},
   "source": [
    "Moderate negative correlation"
   ]
  }
 ],
 "metadata": {
  "anaconda-cloud": {},
  "kernel_info": {
   "name": "python3"
  },
  "kernelspec": {
   "display_name": "Python (PythonData)",
   "language": "python",
   "name": "myenv"
  },
  "language_info": {
   "codemirror_mode": {
    "name": "ipython",
    "version": 3
   },
   "file_extension": ".py",
   "mimetype": "text/x-python",
   "name": "python",
   "nbconvert_exporter": "python",
   "pygments_lexer": "ipython3",
   "version": "3.8.5"
  },
  "latex_envs": {
   "LaTeX_envs_menu_present": true,
   "autoclose": false,
   "autocomplete": true,
   "bibliofile": "biblio.bib",
   "cite_by": "apalike",
   "current_citInitial": 1,
   "eqLabelWithNumbers": true,
   "eqNumInitial": 1,
   "hotkeys": {
    "equation": "Ctrl-E",
    "itemize": "Ctrl-I"
   },
   "labels_anchors": false,
   "latex_user_defs": false,
   "report_style_numbering": false,
   "user_envs_cfg": false
  },
  "nteract": {
   "version": "0.12.3"
  }
 },
 "nbformat": 4,
 "nbformat_minor": 2
}
